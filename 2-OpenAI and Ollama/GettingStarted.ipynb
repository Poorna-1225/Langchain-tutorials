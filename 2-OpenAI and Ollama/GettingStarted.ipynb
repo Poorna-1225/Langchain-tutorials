{
 "cells": [
  {
   "cell_type": "markdown",
   "metadata": {},
   "source": [
    "OpenAI setup and basic exaplanations on creating a custom LLM using OpenAI's GPT-4."
   ]
  },
  {
   "cell_type": "code",
   "execution_count": 1,
   "metadata": {},
   "outputs": [],
   "source": [
    "import os\n",
    "from dotenv import load_dotenv\n",
    "load_dotenv()\n",
    "\n",
    "os.environ['OPENAI_API_KEY'] = os.getenv('OPENAI_API_KEY')\n",
    "os.environ['LANGCHAIN_API_KEY'] = os.getenv('LANGCHAIN_API_KEY')\n",
    "os.environ['LANGCHAIN_TRACING_V2'] = 'true'\n",
    "os.environ['LANGCHAIN_PROJECT'] = os.getenv('LANGCHAIN_PROJECT')"
   ]
  },
  {
   "cell_type": "code",
   "execution_count": 4,
   "metadata": {},
   "outputs": [
    {
     "name": "stdout",
     "output_type": "stream",
     "text": [
      "client=<openai.resources.chat.completions.Completions object at 0x000002097A00A2F0> async_client=<openai.resources.chat.completions.AsyncCompletions object at 0x000002097A039330> root_client=<openai.OpenAI object at 0x000002097A008CD0> root_async_client=<openai.AsyncOpenAI object at 0x000002097A009B10> model_name='gpt-4o' model_kwargs={} openai_api_key=SecretStr('**********')\n"
     ]
    }
   ],
   "source": [
    "from langchain_openai import ChatOpenAI\n",
    "\n",
    "llm = ChatOpenAI(model = 'gpt-4o')\n",
    "\n",
    "print(llm)"
   ]
  },
  {
   "cell_type": "code",
   "execution_count": 5,
   "metadata": {},
   "outputs": [
    {
     "name": "stdout",
     "output_type": "stream",
     "text": [
      "content=\"Y.S. Jagan Mohan Reddy is an Indian politician who is the current Chief Minister of the Indian state of Andhra Pradesh. He assumed office on May 30, 2019. Jagan Mohan Reddy is the leader of the Yuvajana Sramika Rythu Congress Party (YSR Congress Party), which he founded in 2011 after parting ways with the Indian National Congress. He is the son of the late Y.S. Rajasekhara Reddy, a former Chief Minister of Andhra Pradesh. Jagan Mohan Reddy's political career has been marked by his focus on welfare schemes and development projects in Andhra Pradesh.\" additional_kwargs={'refusal': None} response_metadata={'token_usage': {'completion_tokens': 134, 'prompt_tokens': 17, 'total_tokens': 151, 'completion_tokens_details': {'audio_tokens': None, 'reasoning_tokens': 0}, 'prompt_tokens_details': {'audio_tokens': None, 'cached_tokens': 0}}, 'model_name': 'gpt-4o-2024-08-06', 'system_fingerprint': 'fp_6b68a8204b', 'finish_reason': 'stop', 'logprobs': None} id='run-576e9c0a-2245-4c9f-9271-3200cec56820-0' usage_metadata={'input_tokens': 17, 'output_tokens': 134, 'total_tokens': 151, 'input_token_details': {'cache_read': 0}, 'output_token_details': {'reasoning': 0}}\n",
      "answer : Y.S. Jagan Mohan Reddy is an Indian politician who is the current Chief Minister of the Indian state of Andhra Pradesh. He assumed office on May 30, 2019. Jagan Mohan Reddy is the leader of the Yuvajana Sramika Rythu Congress Party (YSR Congress Party), which he founded in 2011 after parting ways with the Indian National Congress. He is the son of the late Y.S. Rajasekhara Reddy, a former Chief Minister of Andhra Pradesh. Jagan Mohan Reddy's political career has been marked by his focus on welfare schemes and development projects in Andhra Pradesh.\n"
     ]
    }
   ],
   "source": [
    "result = llm.invoke(\"who is YSJagan Mohan Reddy?\")\n",
    "\n",
    "print(result)\n",
    "\n",
    "print(f\"answer : {result.content}\")"
   ]
  },
  {
   "cell_type": "markdown",
   "metadata": {},
   "source": [
    "we define the instructions to the llm to behave in a way we required.\n",
    "we use `langchain_core.prompts` and import `ChatPromptTemplate`\n",
    "\n",
    "This is the list of messages that defines the structure of your prompt.\n",
    "* The first message has the role \"system\". This is typically used to provide initial instructions or context to the language model. In this case, you're telling the model to act as an expert AI engineer and focus on answering questions.\n",
    "* The second message has the role \"user\". This is where the actual user's question or input will be placed. The {user_input} is a placeholder that will be replaced with the specific question when the prompt is used."
   ]
  },
  {
   "cell_type": "code",
   "execution_count": 2,
   "metadata": {},
   "outputs": [
    {
     "data": {
      "text/plain": [
       "ChatPromptTemplate(input_variables=['user_input'], input_types={}, partial_variables={}, messages=[SystemMessagePromptTemplate(prompt=PromptTemplate(input_variables=[], input_types={}, partial_variables={}, template='you are an AI expert. provide me answers based on the question'), additional_kwargs={}), HumanMessagePromptTemplate(prompt=PromptTemplate(input_variables=['user_input'], input_types={}, partial_variables={}, template='{user_input}'), additional_kwargs={})])"
      ]
     },
     "execution_count": 2,
     "metadata": {},
     "output_type": "execute_result"
    }
   ],
   "source": [
    "from langchain_core.prompts import ChatPromptTemplate\n",
    "\n",
    "prompt = ChatPromptTemplate.from_messages(\n",
    "    [('system','you are an AI expert. provide me answers based on the question'),\n",
    "     ('user','{user_input}')]\n",
    ")\n",
    "\n",
    "prompt"
   ]
  },
  {
   "cell_type": "code",
   "execution_count": null,
   "metadata": {},
   "outputs": [],
   "source": []
  },
  {
   "cell_type": "code",
   "execution_count": 7,
   "metadata": {},
   "outputs": [
    {
     "data": {
      "text/plain": [
       "AIMessage(content=\"YS Jagan Mohan Reddy is an Indian politician serving as the Chief Minister of the Indian state of Andhra Pradesh since May 2019. He is the leader of the Yuvajana Sramika Rythu Congress Party (YSRCP), a regional political party in Andhra Pradesh. He is the son of the late YS Rajasekhara Reddy, a former Chief Minister of Andhra Pradesh. Before becoming Chief Minister, Jagan Mohan Reddy was a Member of Parliament in the Lok Sabha, representing the Kadapa constituency. His political career has been marked by his efforts to continue his father's legacy and implement welfare schemes in the state.\", additional_kwargs={'refusal': None}, response_metadata={'token_usage': {'completion_tokens': 132, 'prompt_tokens': 35, 'total_tokens': 167, 'completion_tokens_details': {'audio_tokens': None, 'reasoning_tokens': 0}, 'prompt_tokens_details': {'audio_tokens': None, 'cached_tokens': 0}}, 'model_name': 'gpt-4o-2024-08-06', 'system_fingerprint': 'fp_6b68a8204b', 'finish_reason': 'stop', 'logprobs': None}, id='run-c93039b4-abc8-476a-9ea5-4c6185b7b14b-0', usage_metadata={'input_tokens': 35, 'output_tokens': 132, 'total_tokens': 167, 'input_token_details': {'cache_read': 0}, 'output_token_details': {'reasoning': 0}})"
      ]
     },
     "execution_count": 7,
     "metadata": {},
     "output_type": "execute_result"
    }
   ],
   "source": [
    "chain =  prompt|llm\n",
    "\n",
    "response = chain.invoke({'user_input': 'Who is YS Jagan Mohan Reddy?'})\n",
    "\n",
    "\n",
    "response"
   ]
  },
  {
   "cell_type": "code",
   "execution_count": 10,
   "metadata": {},
   "outputs": [
    {
     "name": "stdout",
     "output_type": "stream",
     "text": [
      "YS Jagan Mohan Reddy is an Indian politician serving as the 17th and current Chief Minister of the Indian state of Andhra Pradesh. He is the president of the Yuvajana Sramika Rythu Congress Party (YSR Congress Party), which he founded in 2011. Born on December 21, 1972, he is the son of former Andhra Pradesh Chief Minister YS Rajasekhara Reddy. Jagan Mohan Reddy became the Chief Minister on May 30, 2019, after his party won a significant majority in the 2019 Andhra Pradesh Legislative Assembly elections. Prior to his role as Chief Minister, he has served as a Member of Parliament in the Lok Sabha.\n"
     ]
    }
   ],
   "source": [
    "# we also have output parser. so that we can have the output as we like\n",
    "\n",
    "from langchain_core.output_parsers import StrOutputParser\n",
    "\n",
    "output_parser = StrOutputParser()\n",
    "\n",
    "chain = prompt|llm|output_parser\n",
    "\n",
    "response = chain.invoke({'user_input': 'Who is YS Jagan Mohan Reddy?'})\n",
    "\n",
    "print(response)\n"
   ]
  },
  {
   "cell_type": "code",
   "execution_count": null,
   "metadata": {},
   "outputs": [],
   "source": []
  }
 ],
 "metadata": {
  "kernelspec": {
   "display_name": "genai_venv",
   "language": "python",
   "name": "python3"
  },
  "language_info": {
   "codemirror_mode": {
    "name": "ipython",
    "version": 3
   },
   "file_extension": ".py",
   "mimetype": "text/x-python",
   "name": "python",
   "nbconvert_exporter": "python",
   "pygments_lexer": "ipython3",
   "version": "3.10.0"
  }
 },
 "nbformat": 4,
 "nbformat_minor": 2
}
