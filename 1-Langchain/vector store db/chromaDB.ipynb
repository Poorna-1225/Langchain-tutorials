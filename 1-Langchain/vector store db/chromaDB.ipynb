{
 "cells": [
  {
   "cell_type": "markdown",
   "metadata": {},
   "source": [
    "## Chroma DB\n",
    "\n",
    "Chroma is a AI-natiev open source vector database focused on developer productivity and happiness. Chroma is licensed under Apache 2.0"
   ]
  },
  {
   "cell_type": "code",
   "execution_count": 3,
   "metadata": {},
   "outputs": [],
   "source": [
    "## Building a smaple vectordbA\n",
    "\n",
    "from langchain_chroma import Chroma\n",
    "from langchain_community.document_loaders import TextLoader\n",
    "from langchain_text_splitters import RecursiveCharacterTextSplitter\n",
    "from langchain.embeddings import OllamaEmbeddings"
   ]
  },
  {
   "cell_type": "code",
   "execution_count": 7,
   "metadata": {},
   "outputs": [
    {
     "data": {
      "text/plain": [
       "[Document(metadata={'source': 'speech.txt'}, page_content='In the 2019 National and State election held in April and May 2019, YSR Congress Party swept the polls and won 151 of the total 175 assembly seats\\nand 22 of the 25 Lok Sabha seats in Andhra Pradesh. He took oath as the Chief Minister on 30 May 2019.[52] His chief ministership has been marked \\nby a slew of welfare schemes such as Jagananna Amma Vodi, Navaratnalu.[53] Jagananna Amma Vodi provides financial assistance for mothers or \\nguardians from the Below Poverty Line, to educate their children.[54][55] Navaratnalu is a collection of nine welfare schemes covering farmers, \\nwomen, medical and health, education and Special Category Status.[53] He scrapped the plans for a new capital at Amaravati, proposed by the former\\nTDP government, and has proposed three different capitals for the judicial, administrative and legislative branches at Kurnool, Amaravati and \\nVisakhapatnam respectively.[56] The proposal resulted in widespread protests by the farmers of Amaravati.[57] The Andhra Pradesh High Court in a'),\n",
       " Document(metadata={'source': 'speech.txt'}, page_content='March 2022 ruling directed the Government of Andhra Pradesh to continue developing Amaravati and adjudicated that the government \"lacked the \\ncompetence to make any legislation for shifting, bifurcating or trifurcating the capital\".[58]'),\n",
       " Document(metadata={'source': 'speech.txt'}, page_content='As of April 2023, it was reported by the Association for Democratic Reforms that he was the richest Chief Minister in India, with total assets of \\n510 crore.')]"
      ]
     },
     "execution_count": 7,
     "metadata": {},
     "output_type": "execute_result"
    }
   ],
   "source": [
    "loader = TextLoader('speech.txt')\n",
    "\n",
    "documents =  loader.load()\n",
    "\n",
    "text_splitter = RecursiveCharacterTextSplitter(chunk_size = 1024, chunk_overlap = 50)\n",
    "\n",
    "docs = text_splitter.split_documents(documents)\n",
    "docs "
   ]
  },
  {
   "cell_type": "code",
   "execution_count": 10,
   "metadata": {},
   "outputs": [
    {
     "data": {
      "text/plain": [
       "<langchain_chroma.vectorstores.Chroma at 0x1c4b78dcd90>"
      ]
     },
     "execution_count": 10,
     "metadata": {},
     "output_type": "execute_result"
    }
   ],
   "source": [
    "embedding_vector = OllamaEmbeddings(model = \"gemma:2b\")\n",
    "\n",
    "vectordb = Chroma.from_documents(documents=docs, embedding= embedding_vector)\n",
    "vectordb"
   ]
  },
  {
   "cell_type": "code",
   "execution_count": 11,
   "metadata": {},
   "outputs": [
    {
     "data": {
      "text/plain": [
       "[Document(metadata={'source': 'speech.txt'}, page_content='March 2022 ruling directed the Government of Andhra Pradesh to continue developing Amaravati and adjudicated that the government \"lacked the \\ncompetence to make any legislation for shifting, bifurcating or trifurcating the capital\".[58]'),\n",
       " Document(metadata={'source': 'speech.txt'}, page_content='As of April 2023, it was reported by the Association for Democratic Reforms that he was the richest Chief Minister in India, with total assets of \\n510 crore.'),\n",
       " Document(metadata={'source': 'speech.txt'}, page_content='In the 2019 National and State election held in April and May 2019, YSR Congress Party swept the polls and won 151 of the total 175 assembly seats\\nand 22 of the 25 Lok Sabha seats in Andhra Pradesh. He took oath as the Chief Minister on 30 May 2019.[52] His chief ministership has been marked \\nby a slew of welfare schemes such as Jagananna Amma Vodi, Navaratnalu.[53] Jagananna Amma Vodi provides financial assistance for mothers or \\nguardians from the Below Poverty Line, to educate their children.[54][55] Navaratnalu is a collection of nine welfare schemes covering farmers, \\nwomen, medical and health, education and Special Category Status.[53] He scrapped the plans for a new capital at Amaravati, proposed by the former\\nTDP government, and has proposed three different capitals for the judicial, administrative and legislative branches at Kurnool, Amaravati and \\nVisakhapatnam respectively.[56] The proposal resulted in widespread protests by the farmers of Amaravati.[57] The Andhra Pradesh High Court in a')]"
      ]
     },
     "execution_count": 11,
     "metadata": {},
     "output_type": "execute_result"
    }
   ],
   "source": [
    "# querying the chromadb\n",
    "\n",
    "query = 'What was the main theme of the speech?'\n",
    "response = vectordb.similarity_search(query, k=3)\n",
    "response\n"
   ]
  },
  {
   "cell_type": "code",
   "execution_count": 12,
   "metadata": {},
   "outputs": [],
   "source": [
    "# storing the chromadb in local to use later in other langchain methods too\n",
    "\n",
    "vectorstroedb = Chroma.from_documents(docs, embedding_vector, persist_directory= \"./chroma_db\")"
   ]
  },
  {
   "cell_type": "code",
   "execution_count": 17,
   "metadata": {},
   "outputs": [
    {
     "name": "stderr",
     "output_type": "stream",
     "text": [
      "Number of requested results 4 is greater than number of elements in index 3, updating n_results = 3\n"
     ]
    },
    {
     "data": {
      "text/plain": [
       "[Document(metadata={'source': 'speech.txt'}, page_content='March 2022 ruling directed the Government of Andhra Pradesh to continue developing Amaravati and adjudicated that the government \"lacked the \\ncompetence to make any legislation for shifting, bifurcating or trifurcating the capital\".[58]'),\n",
       " Document(metadata={'source': 'speech.txt'}, page_content='As of April 2023, it was reported by the Association for Democratic Reforms that he was the richest Chief Minister in India, with total assets of \\n510 crore.'),\n",
       " Document(metadata={'source': 'speech.txt'}, page_content='In the 2019 National and State election held in April and May 2019, YSR Congress Party swept the polls and won 151 of the total 175 assembly seats\\nand 22 of the 25 Lok Sabha seats in Andhra Pradesh. He took oath as the Chief Minister on 30 May 2019.[52] His chief ministership has been marked \\nby a slew of welfare schemes such as Jagananna Amma Vodi, Navaratnalu.[53] Jagananna Amma Vodi provides financial assistance for mothers or \\nguardians from the Below Poverty Line, to educate their children.[54][55] Navaratnalu is a collection of nine welfare schemes covering farmers, \\nwomen, medical and health, education and Special Category Status.[53] He scrapped the plans for a new capital at Amaravati, proposed by the former\\nTDP government, and has proposed three different capitals for the judicial, administrative and legislative branches at Kurnool, Amaravati and \\nVisakhapatnam respectively.[56] The proposal resulted in widespread protests by the farmers of Amaravati.[57] The Andhra Pradesh High Court in a')]"
      ]
     },
     "execution_count": 17,
     "metadata": {},
     "output_type": "execute_result"
    }
   ],
   "source": [
    "# loading the chromadb from local\n",
    "\n",
    "db2 = Chroma(persist_directory =\"./chroma_db\", embedding_function=embedding_vector)\n",
    "\n",
    "response = db2.similarity_search(query)\n",
    "\n",
    "response"
   ]
  },
  {
   "cell_type": "markdown",
   "metadata": {},
   "source": []
  }
 ],
 "metadata": {
  "kernelspec": {
   "display_name": "genai_venv",
   "language": "python",
   "name": "python3"
  },
  "language_info": {
   "codemirror_mode": {
    "name": "ipython",
    "version": 3
   },
   "file_extension": ".py",
   "mimetype": "text/x-python",
   "name": "python",
   "nbconvert_exporter": "python",
   "pygments_lexer": "ipython3",
   "version": "3.10.0"
  }
 },
 "nbformat": 4,
 "nbformat_minor": 2
}
