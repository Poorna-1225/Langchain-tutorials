{
 "cells": [
  {
   "cell_type": "markdown",
   "metadata": {},
   "source": [
    "Text splitting from documents"
   ]
  },
  {
   "cell_type": "code",
   "execution_count": 1,
   "metadata": {},
   "outputs": [
    {
     "data": {
      "text/plain": [
       "[Document(metadata={'source': 'assignement2.pdf', 'page': 0}, page_content='Task 1: Data Privacy and Security Analysis  \\nI. Introduction  \\nImportance of Data Privacy and Security : In the digital age, vast amounts of sensitive data are \\ncollected and processed, making data privacy and security paramount. Organizations have an \\nethical and legal obligation to protect this information.  \\nPrevalence of Data Breaches : Despite increased awareness, data breaches remain a persistent \\nthreat, highlighting the need for robust security measures and ethical data handling practices.  \\nFocus of the Essay:  This essay analyzes the recent MOVEit Transfer data breach, examining its \\ncauses, ethical implications, and potential solutions to prevent similar incidents.  \\n \\nII. Background  \\nData Privacy:  Focuses on individual rights to control personal information. Key principles \\ninclude:  \\nConsent:  Individuals should be informed about and agree to data collection and use.  \\nTransparency:  Organizations should be open about their data practices.  \\nPurpose Limitation:  Data should only be used for the purposes for which it was collected.  \\nData Minimization:  Only necessary data should be collected and processed.  \\nData Security:  Involves technical and organizational measures to protect data, including:  \\nEncryption:  Encoding data to prevent unauthorized access.  \\nAccess Controls:  Limiting who can access sensitive information.  \\nVulnerability Management:  Identifying and addressing security weaknesses.  \\nSecurity Audits:  Regularly assessing security practices.  \\n \\nIII. The MOVEit Transfer Data Breach  \\nOverview:  In May 2023, a critical vulnerability in MOVEit Transfer, a managed file transfer \\nsoftware, was exploited, allowing unauthorized access to sensitive data.  \\nImpact:  The breach affected numerous organizations globally, including government agencies, \\nfinancial institutions, healthcare providers, and technology companies.  \\nTypes of Data Compromised:  Potentially included names, addresses, social security numbers, \\nfinancial details, and other personal information.  '),\n",
       " Document(metadata={'source': 'assignement2.pdf', 'page': 1}, page_content=' \\nIV . Ethical Implications  \\nLack of Adequate Security:  The vulnerability exploited highlights a failure to implement \\nsufficient security measures, violating the ethical responsibility to protect sensitive data.  \\nLack of Transparency:  Delays in notifying affected individuals demonstrate a lack of \\ntransparency, hindering their ability to take protective measures.  \\nPotential Misuse of Data:  Compromised data could be used for identity theft, financial fraud, or \\nother malicious activities, causing significant harm to individuals.  \\n \\nV . Solutions and Recommendations  \\n1. Strengthening Security Measures:  \\no Strong Encryption: Use robust encryption algorithms like AES -256 for data at rest and \\nTLS/SSL for data in transit. Securely manage encryption keys.  \\no Regular Updates and Patching: Establish a process for promptly identifying, testing, and \\ndeploying software updates and patches. Utilize automated vulnerability scanning tools.  \\no Penetration Testing and Vulnerability Assessments: Conduct regular penetration testing \\nand vulnerability assessments to proactively identify and address security risks.  \\no Multi -Factor Authentication and Access Controls: Implement multi -factor authentication \\nand access controls, such as role -based access control (RBAC) and least privilege \\nprinciples, to limit unauthorized access.  \\n2.Improving Data Governance:  \\no Data Privacy Policies and Procedures: Establish clear data privacy policies and \\nprocedures that comply with relevant regulations (e.g., GDPR, CCPA).  \\no Data Privacy Impact Assessments: Conduct regular data privacy impact assessments to \\nidentify and mitigate privacy risks.  \\no Data Protection Officer: Appoint a data protection officer to oversee data privacy and \\nsecurity practices.  \\no Employee Training: Provide regular training to employees on data privacy and security \\nbest practices, emphasizing their role in protecting sensitive information.  \\no Enhancing Incident Response:  \\no Incident Response Plan: Develop a comprehensive incident response plan that outlines \\nprocedures for identifying, containing, and recovering from data breaches.  \\no Regular Drills: Conduct regular drills to test the effectiveness of the incident response \\nplan and ensure preparedness.  \\n \\n '),\n",
       " Document(metadata={'source': 'assignement2.pdf', 'page': 2}, page_content='VI. Conclusion  \\nLessons Learned : The MOVEit Transfer data breach underscores the critical importance of data \\nprivacy and security in data science.  \\nEthical Imperative:  Organizations must prioritize the protection of sensitive information and \\nuphold ethical data handling practices to maintain trust and prevent harm.  \\nProactive Measures:  By implementing strong security measures, improving data governance, \\nand enhancing incident response capabilities, organizations can mitigate the risk of data breaches \\nand safeguard sensitive information.  \\n \\nSources:  \\nWikipedia:  https://en.wikipedia.org/wiki/2023_MOVEit_data_breach  \\nNCSC (UK National Cyber Security Centre): https://www.ncsc.gov.uk/information/moveit -\\nvulnerability  \\nExperian : https://www.experian.com/blogs/ask -experian/moveit -data-breach/  \\nIT Governance USA: https://www.itgovernanceusa.com/blog/moveit -breach -over-1000 -\\norganizations -and-60-million -individuals -affected  \\nORX News: https://orx.org/resource/moveit -transfer -data-breaches  \\nNational Institute of Standards and Technology (NIST): https://www.nist.gov/cyberframework  \\nInternational Association of Privacy Professionals (IAPP): https://iapp.org/  \\n \\n \\nTask2: Bias in Data Collection and Algorithms  \\nIntroduction:  Data science strives for accurate and unbiased predictions. However, biases \\nin data and algorithms can hinder this goal. This report examines the \"California Housing Prices\" \\ndataset and the Linear Regression algorithm to identify potential biases and their  implications. \\nBy analyzing these biases, we aim to highlight the importance of ethical considerations and \\npropose mitigation strategies for fair predictive modeling.  \\nDataset and Algorithm Overview  \\nDataset: California Housing Prices (https://www.kaggle.com/datasets/camnugent/california -\\nhousing -prices)  '),\n",
       " Document(metadata={'source': 'assignement2.pdf', 'page': 3}, page_content=\"This dataset contains information about housing prices in California districts derived from the \\n1990 census. It includes features like median income, housing median age, total rooms, total \\nbedrooms, population, households, latitude, and longitude.  \\nAlgorithm: Linear Regression  \\nWe'll use this  algorithm  to predict median house value based on the other features in the dataset.  \\nBias Analysis  \\n1. Identify  Potential Biases in the Dataset  \\no Data Collection Bias: The data is from the 1990 census, which may not accurately \\nreflect the current housing market in California. This could lead to outdated or \\ninaccurate predictions.  \\no Representation Bias: The dataset may not be fully representative of all communities \\nin California. Certain areas or demographics might be over - or under -represented, \\nleading to biased predictions for those groups.  \\no Historical Bias: Historical factors like redlining or discriminatory housing practices \\ncould be embedded in the data, potentially leading to biased predictions that \\nperpetuate existing inequalities.  \\n2. Identif y Potential Biases in the Algorithm  \\no Algorithmic Bias: Linear Regression can amplify biases present in the data. If certain \\nfeatures are correlated with protected attributes (e.g., race or income), the algorithm \\nmight inadvertently perpetuate those biases in its predictions.  \\no Model Selection Bias: Linear Regression assumes a linear relationship between \\nfeatures and the target variable. If this assumption is violated, the model might \\nproduce biased predictions.  \\nImplications of Bias  \\nUnfair or discriminatory outcomes:  Biased predictions could lead to unfair or discriminatory \\noutcomes in the housing market. For example, the model might overestimate housing values in \\npredominantly white neighborhoods and underestimate values in predominantly minority \\nneighborhoods.  \\nPerpetuation of inequality:  If the model reinforces existing biases, it could contribute to the \\nperpetuation of housing inequality and discrimination.  \\nErosion of trust:  Biased predictions can erode trust in the model and its use in housing -related \\ndecisions  \\nMitigation Strategies  \\n1. Data -level Mitigation:  \"),\n",
       " Document(metadata={'source': 'assignement2.pdf', 'page': 4}, page_content='o Data Collection: Supplement the dataset with more recent data to address the data \\ncollection bias.  \\no Data Preprocessing: Analyze the data for representation bias and apply techniques \\nlike re -sampling or re -weighting to address imbalances.  \\no Feature Engineering: Create new features that might help mitigate bias, such as \\nindicators of neighborhood diversity or historical disadvantage.  \\n2. Algorithm -level Mitigation : \\no Regularization: Use regularization techniques like L1 or L2 regularization to prevent \\noverfitting to biased data.  \\no Fairness -aware Algorithms: Explore fairness -aware machine learning techniques that \\ncan be applied to linear regression to mitigate bias.  \\nConclusion  \\nThis report identified potential biases in the \"California Housing Prices\" dataset and Linear \\nRegression. Unaddressed, these biases could perpetuate inequalities. Mitigating these biases is \\ncrucial for ethical and fair predictive modeling in housing market s. \\n \\n \\nTask 3: Policy for Transparency and Accountability in Data Science \\nOperations  \\n1. Introduction  \\nXYZ company  is committed to conducting its data science operations with the highest standards \\nof transparency and accountability. This policy outlines the procedures and mechanisms we \\nemploy to ensure responsible and ethical use of data and algorithms.  \\n2. Algorithm Audits  \\n• Purpose:  To assess the fairness, accuracy, and potential biases of our algorithms.  \\n• Frequency:  Audits will be conducted:  \\no Prior to deployment of any new algorithm.  \\no Annually for existing algorithms.  \\no Whenever significant changes are made to an algorithm or its training data.  \\n• Procedure:   \\no A diverse team of data scientists, ethicists, and domain experts will conduct the \\naudits.  \\no Audits will include:  '),\n",
       " Document(metadata={'source': 'assignement2.pdf', 'page': 5}, page_content=\"▪ Review of the algorithm's design and implementation.  \\n▪ Analysis of the training data for biases and representativeness.  \\n▪ Evaluation of the algorithm's performance across different demographic \\ngroups.  \\n▪ Assessment of the algorithm's potential impact on individuals and society.  \\n• Reporting:  Audit findings will be documented in a comprehensive report, including \\nrecommendations for mitigation of any identified biases or risks.  \\n3. Data Usage Disclosures  \\n• Transparency:  We will be transparent about the data we collect, how we use it, and with \\nwhom we share it.  \\n• Privacy Policy:  Our privacy policy will clearly explain:  \\no The types of data we collect.  \\no The purposes for which we collect and use data.  \\no How we protect data privacy and security.  \\no Individuals' rights regarding their data.  \\n• Data Sharing Agreements:  Any data sharing with third parties will be governed by clear \\nand transparent data sharing agreements.  \\n4. Mechanisms for Accountability  \\n• Internal Review Board:  An internal review board comprising data scientists, ethicists, \\nand legal experts will oversee our data science operations and ensure compliance with \\nthis policy.  \\n• Ethics Hotline:  We will establish an ethics hotline for employees and stakeholders to \\nreport concerns about potential ethical violations.  \\n• Public Reporting:  We will publish an annual report summarizing our data science \\noperations, including algorithm audits, data usage, and any ethical concerns raised and \\naddressed.  \\n5. Continuous Improvement  \\n• We are committed to continuous improvement in our transparency and accountability \\npractices.  \\n• We will regularly review and update this policy to reflect evolving best practices and \\nregulatory requirements.  \\n6. Enforcement  \"),\n",
       " Document(metadata={'source': 'assignement2.pdf', 'page': 6}, page_content='• Any violation of this policy will be taken seriously and may result in disciplinary action.  \\nSources:  \\n• The AI Now Institute:  https://ainowinstitute.org/  \\n• General Data Protection Regulation (GDPR): https://gdpr.eu/  \\n \\n \\nTask 4:  Consent and Ownership of Data  \\n \\nThe below attached  form is just a  sample form. It may not have all th e fields or  attributes \\nmentioned in the below explanation . '),\n",
       " Document(metadata={'source': 'assignement2.pdf', 'page': 7}, page_content=' \\nIntroduction : \\n'),\n",
       " Document(metadata={'source': 'assignement2.pdf', 'page': 8}, page_content=\"Welcome to XYZ APP ! We're excited to have you join our community. We value your privacy \\nand want to be transparent about how we collect and use your data to personalize your \\nexperience. Please take a moment to read this consent form carefully.  \\nWhat Data We Collect ? \\nTo provide you with personalized features and recommendations, we may collect the following \\ntypes of data:  \\n• Account Information:  Your name, email address, username, and profile picture (if you \\nchoose to provide one).  \\n• Usage Data:  How you interact with the app, including the features you use, the content \\nyou view, and the time you spend on different activities.  \\n• Device Information:  Your device type, operating system, and unique device identifiers.  \\n• Location Data:  Your approximate location, if you choose to enable location services.  \\nHow We Use Your Data  \\nWe use your data to:  \\n• Personalize your experience:  Recommend content and features that are relevant to your \\ninterests.  \\n• Improve the app:  Analyze usage patterns to identify areas for improvement.  \\n• Communicate with you:  Send you updates, notifications, and promotional messages (you \\ncan opt -out of these).  \\n• Provide customer support:  Respond to your questions and resolve any issues you may \\nencounter.  \\nData Sharing  \\nWe may share your data with:  \\n• Service Providers:  Trusted third -party service providers who assist us with data storage, \\nprocessing, and analysis. These providers are contractually obligated to protect your data.  \\n• Business Partners:  Select business partners who may offer you products or services that \\ncomplement our app (you can opt -out of this sharing).  \\n• Legal Authorities:  When required by law or legal process.  \\nYour Choices  \\nYou have the following choices regarding your data:  \\n• Consent:  You can choose to consent to the collection and use of your data as described in \\nthis form.  \"),\n",
       " Document(metadata={'source': 'assignement2.pdf', 'page': 9}, page_content='• Withdrawal of Consent:  You can withdraw your consent at any time by deleting your \\naccount or contacting us.  \\n• Access and Correction:  You can access and correct your data by logging into your \\naccount settings.  \\n• Data Deletion:  You can request deletion of your data by contacting us.  \\nData Security  \\nWe take reasonable measures to protect your data from unauthorized access, use, or disclosure. \\nHowever, no method of data transmission or storage  is completely secure.     \\nChildren\\'s Privacy  \\nOur app is not intended for children under the age of 14. We do not knowingly collect data from \\nchildren.  \\nChanges to this Consent Form  \\nWe may update this consent form from time to time. We will notify you of any material changes.  \\nBy clicking \"I Agree,\" you consent to the collection and use of your data as described in \\nthis form.  \\nExplanation of How the Consent Form Addresses Ethical Concerns  \\nThis consent form is designed to meet ethical standards for clarity, voluntariness, and \\ncomprehensiveness:  \\nClarity:  \\n• Plain Language:  The form uses clear and concise language that is easy for users to \\nunderstand.  \\n• Organized Structure:  The information is presented in a well -organized and logical \\nmanner.  \\n• Visual Cues:  Headings, bullet points, and bold text are used to highlight key information.  \\nVoluntariness:  \\n• Informed Consent:  The form provides users with sufficient information to make an \\ninformed decision about whether to consent.  \\n• No Coercion:  Users are not pressured or coerced into consenting.  \\n• Easy Withdrawal:  Users can easily withdraw their consent at any time.  \\nComprehensiveness:  '),\n",
       " Document(metadata={'source': 'assignement2.pdf', 'page': 10}, page_content='• Detailed Information:  The form covers all key aspects of data collection and use, \\nincluding the types of data collected, the purposes of use, data sharing practices, and user \\nrights.  \\n• Specific Examples:  The form provides specific examples of how user data may be used.  \\n• Contact Information:  Users are provided with clear contact information in case they \\nhave questions or concerns.  \\nThis consent form aims to foster trust and transparency between the app and its users. By \\nobtaining informed and voluntary consent, we ensure that users are in control of their data and \\nthat we are using it responsibly and ethically.  \\n \\nTask 5: Ethical Dilemmas in Data Science  \\nThe Algorithmic Hiring Dilemma: Balancing Efficiency and Fairness  \\nIntroduction  \\nIn today\\'s competitive job market, organizations are increasingly turning to predictive analytics \\nto streamline their hiring processes and identify top talent.  While these technologies offer \\nsignificant benefits in terms of efficiency and cost savings, they also raise ethical concerns, \\nparticularly regarding potential bias and discrimination.  This case study examines a hypothetical \\nscenario where a tech company, \"InnovateTech,\" faces an ethical dilemma related to the use of \\npredictive analytics in hiring. W e will analyze the situation, identify the ethical challenges, and \\npropose a solution that balances the company\\'s goals with responsible data science practices.     \\nThe Scenario  \\nInnovateTech, a rapidly growing tech company, is seeking to optimize its hiring process to \\nhandle a high volume of applications for software engineering roles. The company decides to \\nimplement a predictive analytics system that analyzes resumes and applica nt data to identify \\ncandidates who are most likely to succeed in the role. The system uses machine learning \\nalgorithms trained on historical data of past successful and unsuccessful hires.     \\nWhile the system initially appears to be effective in streamlining the hiring process, concerns \\narise when an internal analysis reveals that the system disproportionately favors candidates from \\ncertain universities and backgrounds, while underrepresenting candidates from underprivileged \\ngroups and non -traditional educational pathways. This raises concerns about potential bias and \\ndiscrimination embedded within the system.  \\n \\nEthical Challenges  \\nThe use of predictive analytics in hiring at InnovateTech presents several ethical challenges:  '),\n",
       " Document(metadata={'source': 'assignement2.pdf', 'page': 11}, page_content=\"• Bias and Discrimination:  The system's tendency to favor certain demographics could \\nperpetuate existing inequalities and limit opportunities for qualified candidates from \\nunderrepresented groups.  \\n• Lack of Transparency:  The lack of transparency in how the algorithm makes decisions \\ncan make it difficult to identify and address potential biases.  \\n• Accountability:  It is unclear who is accountable for the system's decisions and any \\npotential discriminatory outcomes.  \\n• Erosion of Trust:  If candidates perceive the system as unfair or biased, it could damage \\nthe company's reputation and erode trust in its hiring practices.  \\nSolution Proposal  \\nTo address these ethical challenges, InnovateTech should adopt a multi -faceted approach that \\nbalances the benefits of predictive analytics with responsible data science practices:  \\n1. Data and Algorithm Audit:  \\no Conduct a comprehensive audit of the training data and algorithm to identify and \\nmitigate potential biases.  \\no Ensure the data is representative of the diverse pool of qualified candidates and \\ndoes not perpetuate historical inequalities.     \\no Explore fairness -aware machine learning techniques to reduce bias in the \\nalgorithm's predictions.  \\n2. Transparency and Explainability:  \\no Increase transparency by providing clear explanations of how the system works \\nand what factors are considered in candidate selection.  \\no Develop mechanisms to explain individual predictions, allowing candidates to \\nunderstand why they were or were not selected.  \\n3. Human Oversight and Accountability:  \\no Maintain human oversight in the hiring process. Use the system as a tool to assist \\nhuman decision -making, not as a replacement for it.  \\no Establish clear lines of accountability for the system's decisions and any potential \\ndiscriminatory outcomes.  \\n4. Continuous Monitoring and Improvement:  \\no Continuously monitor the system's performance for fairness and accuracy.  \\no Regularly re -train the algorithm with updated data to ensure its effectiveness and \\nmitigate evolving biases.  \"),\n",
       " Document(metadata={'source': 'assignement2.pdf', 'page': 12}, page_content=\"5. Ethical Guidelines and Training:  \\no Develop clear ethical guidelines for the use of predictive analytics in hiring.  \\no Provide training to hiring managers and data scientists on ethical considerations \\nand responsible use of the technology.  \\nSources:  \\nhttps://evontech.com/component/easyblog/ethical -considerations -in-predictive -analytics -\\nensuring -fairness -and-accountability -1-\\n1.html?Itemid=159#:~:text=If%20the%20data%20itself%20is,end%20up%20perpetuating%20th\\ne%20biases . \\n \\nhttps://www.roberthalf.com/us/en/insights/management -tips/is -predictive -analytics -the-future -of-\\nrecruitment -and-\\nhiring#:~:text=Ultimately%2C%20predictive%20analytics%20enables%20more,the%20recruitm\\nent%20and%20hiring%20processes.  \\n \\nTask 6: Impact on Society and Responsibility of Data Scientists  \\nData Scientists: Guardians of Societal Impact  \\nData scientists wield immense power in today's data -driven world. Their work shapes decisions, \\ninfluences systems, and ultimately impacts lives. This power carries an inherent responsibility to \\nconsider the broader societal implications of their work, exte nding beyond the immediate goals \\nof any project.  \\n1. Data is Not Neutral:  \\nData reflects the biases, values, and historical context of its creation. Data scientists must be \\naware of these embedded complexities to avoid perpetuating harmful biases. Ignoring the social \\nimplications of data is like ignoring the side effects of a pow erful drug – negligence can have far -\\nreaching consequences.  \\n2. Pervasive Impact:  \\nData -driven systems are now integral to healthcare, finance, education, and criminal justice. \\nAlgorithms influence decisions that impact individuals and communities profoundly. Data \\nscientists, as architects of these systems, cannot ignore their responsibi lity for the outcomes.  \\n3. Ethical Awareness is Key:  \\nThis responsibility is not about stifling innovation, but about fostering ethical awareness and \\nresponsible practice. Data scientists must be vigilant about potential biases, strive for \\ntransparency in their algorithms, and proactively assess societal impa cts. \"),\n",
       " Document(metadata={'source': 'assignement2.pdf', 'page': 13}, page_content=\"4. Specific Responsibilities:  \\n• Critical Data Awareness:  Understanding the data's origins, limitations, and potential \\nbiases is crucial.  \\n• Algorithmic Accountability:  Explainability and transparency in algorithms are essential \\nfor scrutiny and understanding.  \\n• Proactive Impact Assessment:  Considering potential societal impacts, both positive and \\nnegative, before deployment.  \\n• Ongoing Monitoring and Evaluation:  Identifying unintended consequences and ensuring \\nethical alignment over time.  \\n5. Benefits of Responsibility:  \\nEmbracing responsibility for societal impact is not just ethical, but strategic. It builds trust, \\nenhances the profession's credibility, and ensures data science serves the betterment of society.  \\nConclusion  \\nData scientists are not merely technical experts; they are ethical practitioners with a \\nresponsibility to use their skills for good. By acknowledging and addressing the societal impacts \\nof their work, they can help create a more just, equitable, and sustai nable world.  \\n \")]"
      ]
     },
     "execution_count": 1,
     "metadata": {},
     "output_type": "execute_result"
    }
   ],
   "source": [
    "#reading a pdf file\n",
    "\n",
    "from langchain_community.document_loaders import PyPDFLoader\n",
    "\n",
    "loader = PyPDFLoader('assignement2.pdf')\n",
    "\n",
    "documents = loader.load()\n",
    "\n",
    "documents"
   ]
  },
  {
   "cell_type": "code",
   "execution_count": 4,
   "metadata": {},
   "outputs": [
    {
     "data": {
      "text/plain": [
       "langchain_core.documents.base.Document"
      ]
     },
     "execution_count": 4,
     "metadata": {},
     "output_type": "execute_result"
    }
   ],
   "source": [
    "type(documents)\n",
    "type(documents[0])"
   ]
  },
  {
   "cell_type": "markdown",
   "metadata": {},
   "source": [
    "how to recursively split a document text into characters"
   ]
  },
  {
   "cell_type": "markdown",
   "metadata": {},
   "source": [
    "The split_documents() method returns a list called final_documents. This list contains the smaller, chunked Document objects. Each of these new Document objects will have:\n",
    "\n",
    "* page_content: The text chunk itself (around 500 characters with overlaps).\n",
    "* metadata: Metadata from the original document, potentially with added information about the chunk's position within the original text."
   ]
  },
  {
   "cell_type": "code",
   "execution_count": 7,
   "metadata": {},
   "outputs": [
    {
     "data": {
      "text/plain": [
       "[Document(metadata={'source': 'assignement2.pdf', 'page': 0}, page_content='Task 1: Data Privacy and Security Analysis  \\nI. Introduction  \\nImportance of Data Privacy and Security : In the digital age, vast amounts of sensitive data are \\ncollected and processed, making data privacy and security paramount. Organizations have an \\nethical and legal obligation to protect this information.  \\nPrevalence of Data Breaches : Despite increased awareness, data breaches remain a persistent'),\n",
       " Document(metadata={'source': 'assignement2.pdf', 'page': 0}, page_content='threat, highlighting the need for robust security measures and ethical data handling practices.  \\nFocus of the Essay:  This essay analyzes the recent MOVEit Transfer data breach, examining its \\ncauses, ethical implications, and potential solutions to prevent similar incidents.  \\n \\nII. Background  \\nData Privacy:  Focuses on individual rights to control personal information. Key principles \\ninclude:  \\nConsent:  Individuals should be informed about and agree to data collection and use.'),\n",
       " Document(metadata={'source': 'assignement2.pdf', 'page': 0}, page_content='Transparency:  Organizations should be open about their data practices.  \\nPurpose Limitation:  Data should only be used for the purposes for which it was collected.  \\nData Minimization:  Only necessary data should be collected and processed.  \\nData Security:  Involves technical and organizational measures to protect data, including:  \\nEncryption:  Encoding data to prevent unauthorized access.  \\nAccess Controls:  Limiting who can access sensitive information.'),\n",
       " Document(metadata={'source': 'assignement2.pdf', 'page': 0}, page_content='Vulnerability Management:  Identifying and addressing security weaknesses.  \\nSecurity Audits:  Regularly assessing security practices.  \\n \\nIII. The MOVEit Transfer Data Breach  \\nOverview:  In May 2023, a critical vulnerability in MOVEit Transfer, a managed file transfer \\nsoftware, was exploited, allowing unauthorized access to sensitive data.  \\nImpact:  The breach affected numerous organizations globally, including government agencies,'),\n",
       " Document(metadata={'source': 'assignement2.pdf', 'page': 0}, page_content='financial institutions, healthcare providers, and technology companies.  \\nTypes of Data Compromised:  Potentially included names, addresses, social security numbers, \\nfinancial details, and other personal information.'),\n",
       " Document(metadata={'source': 'assignement2.pdf', 'page': 1}, page_content='IV . Ethical Implications  \\nLack of Adequate Security:  The vulnerability exploited highlights a failure to implement \\nsufficient security measures, violating the ethical responsibility to protect sensitive data.  \\nLack of Transparency:  Delays in notifying affected individuals demonstrate a lack of \\ntransparency, hindering their ability to take protective measures.  \\nPotential Misuse of Data:  Compromised data could be used for identity theft, financial fraud, or'),\n",
       " Document(metadata={'source': 'assignement2.pdf', 'page': 1}, page_content='other malicious activities, causing significant harm to individuals.  \\n \\nV . Solutions and Recommendations  \\n1. Strengthening Security Measures:  \\no Strong Encryption: Use robust encryption algorithms like AES -256 for data at rest and \\nTLS/SSL for data in transit. Securely manage encryption keys.  \\no Regular Updates and Patching: Establish a process for promptly identifying, testing, and \\ndeploying software updates and patches. Utilize automated vulnerability scanning tools.'),\n",
       " Document(metadata={'source': 'assignement2.pdf', 'page': 1}, page_content='o Penetration Testing and Vulnerability Assessments: Conduct regular penetration testing \\nand vulnerability assessments to proactively identify and address security risks.  \\no Multi -Factor Authentication and Access Controls: Implement multi -factor authentication \\nand access controls, such as role -based access control (RBAC) and least privilege \\nprinciples, to limit unauthorized access.  \\n2.Improving Data Governance:'),\n",
       " Document(metadata={'source': 'assignement2.pdf', 'page': 1}, page_content='2.Improving Data Governance:  \\no Data Privacy Policies and Procedures: Establish clear data privacy policies and \\nprocedures that comply with relevant regulations (e.g., GDPR, CCPA).  \\no Data Privacy Impact Assessments: Conduct regular data privacy impact assessments to \\nidentify and mitigate privacy risks.  \\no Data Protection Officer: Appoint a data protection officer to oversee data privacy and \\nsecurity practices.'),\n",
       " Document(metadata={'source': 'assignement2.pdf', 'page': 1}, page_content='security practices.  \\no Employee Training: Provide regular training to employees on data privacy and security \\nbest practices, emphasizing their role in protecting sensitive information.  \\no Enhancing Incident Response:  \\no Incident Response Plan: Develop a comprehensive incident response plan that outlines \\nprocedures for identifying, containing, and recovering from data breaches.  \\no Regular Drills: Conduct regular drills to test the effectiveness of the incident response'),\n",
       " Document(metadata={'source': 'assignement2.pdf', 'page': 1}, page_content='plan and ensure preparedness.'),\n",
       " Document(metadata={'source': 'assignement2.pdf', 'page': 2}, page_content='VI. Conclusion  \\nLessons Learned : The MOVEit Transfer data breach underscores the critical importance of data \\nprivacy and security in data science.  \\nEthical Imperative:  Organizations must prioritize the protection of sensitive information and \\nuphold ethical data handling practices to maintain trust and prevent harm.  \\nProactive Measures:  By implementing strong security measures, improving data governance,'),\n",
       " Document(metadata={'source': 'assignement2.pdf', 'page': 2}, page_content='and enhancing incident response capabilities, organizations can mitigate the risk of data breaches \\nand safeguard sensitive information.  \\n \\nSources:  \\nWikipedia:  https://en.wikipedia.org/wiki/2023_MOVEit_data_breach  \\nNCSC (UK National Cyber Security Centre): https://www.ncsc.gov.uk/information/moveit -\\nvulnerability  \\nExperian : https://www.experian.com/blogs/ask -experian/moveit -data-breach/  \\nIT Governance USA: https://www.itgovernanceusa.com/blog/moveit -breach -over-1000 -'),\n",
       " Document(metadata={'source': 'assignement2.pdf', 'page': 2}, page_content='organizations -and-60-million -individuals -affected  \\nORX News: https://orx.org/resource/moveit -transfer -data-breaches  \\nNational Institute of Standards and Technology (NIST): https://www.nist.gov/cyberframework  \\nInternational Association of Privacy Professionals (IAPP): https://iapp.org/  \\n \\n \\nTask2: Bias in Data Collection and Algorithms  \\nIntroduction:  Data science strives for accurate and unbiased predictions. However, biases'),\n",
       " Document(metadata={'source': 'assignement2.pdf', 'page': 2}, page_content='in data and algorithms can hinder this goal. This report examines the \"California Housing Prices\" \\ndataset and the Linear Regression algorithm to identify potential biases and their  implications. \\nBy analyzing these biases, we aim to highlight the importance of ethical considerations and \\npropose mitigation strategies for fair predictive modeling.  \\nDataset and Algorithm Overview  \\nDataset: California Housing Prices (https://www.kaggle.com/datasets/camnugent/california -\\nhousing -prices)'),\n",
       " Document(metadata={'source': 'assignement2.pdf', 'page': 3}, page_content=\"This dataset contains information about housing prices in California districts derived from the \\n1990 census. It includes features like median income, housing median age, total rooms, total \\nbedrooms, population, households, latitude, and longitude.  \\nAlgorithm: Linear Regression  \\nWe'll use this  algorithm  to predict median house value based on the other features in the dataset.  \\nBias Analysis  \\n1. Identify  Potential Biases in the Dataset\"),\n",
       " Document(metadata={'source': 'assignement2.pdf', 'page': 3}, page_content='1. Identify  Potential Biases in the Dataset  \\no Data Collection Bias: The data is from the 1990 census, which may not accurately \\nreflect the current housing market in California. This could lead to outdated or \\ninaccurate predictions.  \\no Representation Bias: The dataset may not be fully representative of all communities \\nin California. Certain areas or demographics might be over - or under -represented, \\nleading to biased predictions for those groups.'),\n",
       " Document(metadata={'source': 'assignement2.pdf', 'page': 3}, page_content='leading to biased predictions for those groups.  \\no Historical Bias: Historical factors like redlining or discriminatory housing practices \\ncould be embedded in the data, potentially leading to biased predictions that \\nperpetuate existing inequalities.  \\n2. Identif y Potential Biases in the Algorithm  \\no Algorithmic Bias: Linear Regression can amplify biases present in the data. If certain \\nfeatures are correlated with protected attributes (e.g., race or income), the algorithm'),\n",
       " Document(metadata={'source': 'assignement2.pdf', 'page': 3}, page_content='might inadvertently perpetuate those biases in its predictions.  \\no Model Selection Bias: Linear Regression assumes a linear relationship between \\nfeatures and the target variable. If this assumption is violated, the model might \\nproduce biased predictions.  \\nImplications of Bias  \\nUnfair or discriminatory outcomes:  Biased predictions could lead to unfair or discriminatory \\noutcomes in the housing market. For example, the model might overestimate housing values in'),\n",
       " Document(metadata={'source': 'assignement2.pdf', 'page': 3}, page_content='predominantly white neighborhoods and underestimate values in predominantly minority \\nneighborhoods.  \\nPerpetuation of inequality:  If the model reinforces existing biases, it could contribute to the \\nperpetuation of housing inequality and discrimination.  \\nErosion of trust:  Biased predictions can erode trust in the model and its use in housing -related \\ndecisions  \\nMitigation Strategies  \\n1. Data -level Mitigation:'),\n",
       " Document(metadata={'source': 'assignement2.pdf', 'page': 4}, page_content='o Data Collection: Supplement the dataset with more recent data to address the data \\ncollection bias.  \\no Data Preprocessing: Analyze the data for representation bias and apply techniques \\nlike re -sampling or re -weighting to address imbalances.  \\no Feature Engineering: Create new features that might help mitigate bias, such as \\nindicators of neighborhood diversity or historical disadvantage.  \\n2. Algorithm -level Mitigation :'),\n",
       " Document(metadata={'source': 'assignement2.pdf', 'page': 4}, page_content='2. Algorithm -level Mitigation : \\no Regularization: Use regularization techniques like L1 or L2 regularization to prevent \\noverfitting to biased data.  \\no Fairness -aware Algorithms: Explore fairness -aware machine learning techniques that \\ncan be applied to linear regression to mitigate bias.  \\nConclusion  \\nThis report identified potential biases in the \"California Housing Prices\" dataset and Linear'),\n",
       " Document(metadata={'source': 'assignement2.pdf', 'page': 4}, page_content='Regression. Unaddressed, these biases could perpetuate inequalities. Mitigating these biases is \\ncrucial for ethical and fair predictive modeling in housing market s. \\n \\n \\nTask 3: Policy for Transparency and Accountability in Data Science \\nOperations  \\n1. Introduction  \\nXYZ company  is committed to conducting its data science operations with the highest standards \\nof transparency and accountability. This policy outlines the procedures and mechanisms we'),\n",
       " Document(metadata={'source': 'assignement2.pdf', 'page': 4}, page_content='employ to ensure responsible and ethical use of data and algorithms.  \\n2. Algorithm Audits  \\n• Purpose:  To assess the fairness, accuracy, and potential biases of our algorithms.  \\n• Frequency:  Audits will be conducted:  \\no Prior to deployment of any new algorithm.  \\no Annually for existing algorithms.  \\no Whenever significant changes are made to an algorithm or its training data.  \\n• Procedure:   \\no A diverse team of data scientists, ethicists, and domain experts will conduct the \\naudits.'),\n",
       " Document(metadata={'source': 'assignement2.pdf', 'page': 4}, page_content='audits.  \\no Audits will include:'),\n",
       " Document(metadata={'source': 'assignement2.pdf', 'page': 5}, page_content=\"▪ Review of the algorithm's design and implementation.  \\n▪ Analysis of the training data for biases and representativeness.  \\n▪ Evaluation of the algorithm's performance across different demographic \\ngroups.  \\n▪ Assessment of the algorithm's potential impact on individuals and society.  \\n• Reporting:  Audit findings will be documented in a comprehensive report, including \\nrecommendations for mitigation of any identified biases or risks.  \\n3. Data Usage Disclosures\"),\n",
       " Document(metadata={'source': 'assignement2.pdf', 'page': 5}, page_content=\"3. Data Usage Disclosures  \\n• Transparency:  We will be transparent about the data we collect, how we use it, and with \\nwhom we share it.  \\n• Privacy Policy:  Our privacy policy will clearly explain:  \\no The types of data we collect.  \\no The purposes for which we collect and use data.  \\no How we protect data privacy and security.  \\no Individuals' rights regarding their data.  \\n• Data Sharing Agreements:  Any data sharing with third parties will be governed by clear\"),\n",
       " Document(metadata={'source': 'assignement2.pdf', 'page': 5}, page_content='and transparent data sharing agreements.  \\n4. Mechanisms for Accountability  \\n• Internal Review Board:  An internal review board comprising data scientists, ethicists, \\nand legal experts will oversee our data science operations and ensure compliance with \\nthis policy.  \\n• Ethics Hotline:  We will establish an ethics hotline for employees and stakeholders to \\nreport concerns about potential ethical violations.  \\n• Public Reporting:  We will publish an annual report summarizing our data science'),\n",
       " Document(metadata={'source': 'assignement2.pdf', 'page': 5}, page_content='operations, including algorithm audits, data usage, and any ethical concerns raised and \\naddressed.  \\n5. Continuous Improvement  \\n• We are committed to continuous improvement in our transparency and accountability \\npractices.  \\n• We will regularly review and update this policy to reflect evolving best practices and \\nregulatory requirements.  \\n6. Enforcement'),\n",
       " Document(metadata={'source': 'assignement2.pdf', 'page': 6}, page_content='• Any violation of this policy will be taken seriously and may result in disciplinary action.  \\nSources:  \\n• The AI Now Institute:  https://ainowinstitute.org/  \\n• General Data Protection Regulation (GDPR): https://gdpr.eu/  \\n \\n \\nTask 4:  Consent and Ownership of Data  \\n \\nThe below attached  form is just a  sample form. It may not have all th e fields or  attributes \\nmentioned in the below explanation .'),\n",
       " Document(metadata={'source': 'assignement2.pdf', 'page': 7}, page_content='Introduction :'),\n",
       " Document(metadata={'source': 'assignement2.pdf', 'page': 8}, page_content=\"Welcome to XYZ APP ! We're excited to have you join our community. We value your privacy \\nand want to be transparent about how we collect and use your data to personalize your \\nexperience. Please take a moment to read this consent form carefully.  \\nWhat Data We Collect ? \\nTo provide you with personalized features and recommendations, we may collect the following \\ntypes of data:  \\n• Account Information:  Your name, email address, username, and profile picture (if you \\nchoose to provide one).\"),\n",
       " Document(metadata={'source': 'assignement2.pdf', 'page': 8}, page_content='choose to provide one).  \\n• Usage Data:  How you interact with the app, including the features you use, the content \\nyou view, and the time you spend on different activities.  \\n• Device Information:  Your device type, operating system, and unique device identifiers.  \\n• Location Data:  Your approximate location, if you choose to enable location services.  \\nHow We Use Your Data  \\nWe use your data to:  \\n• Personalize your experience:  Recommend content and features that are relevant to your'),\n",
       " Document(metadata={'source': 'assignement2.pdf', 'page': 8}, page_content='interests.  \\n• Improve the app:  Analyze usage patterns to identify areas for improvement.  \\n• Communicate with you:  Send you updates, notifications, and promotional messages (you \\ncan opt -out of these).  \\n• Provide customer support:  Respond to your questions and resolve any issues you may \\nencounter.  \\nData Sharing  \\nWe may share your data with:  \\n• Service Providers:  Trusted third -party service providers who assist us with data storage,'),\n",
       " Document(metadata={'source': 'assignement2.pdf', 'page': 8}, page_content='processing, and analysis. These providers are contractually obligated to protect your data.  \\n• Business Partners:  Select business partners who may offer you products or services that \\ncomplement our app (you can opt -out of this sharing).  \\n• Legal Authorities:  When required by law or legal process.  \\nYour Choices  \\nYou have the following choices regarding your data:  \\n• Consent:  You can choose to consent to the collection and use of your data as described in \\nthis form.'),\n",
       " Document(metadata={'source': 'assignement2.pdf', 'page': 9}, page_content='• Withdrawal of Consent:  You can withdraw your consent at any time by deleting your \\naccount or contacting us.  \\n• Access and Correction:  You can access and correct your data by logging into your \\naccount settings.  \\n• Data Deletion:  You can request deletion of your data by contacting us.  \\nData Security  \\nWe take reasonable measures to protect your data from unauthorized access, use, or disclosure. \\nHowever, no method of data transmission or storage  is completely secure.'),\n",
       " Document(metadata={'source': 'assignement2.pdf', 'page': 9}, page_content='Children\\'s Privacy  \\nOur app is not intended for children under the age of 14. We do not knowingly collect data from \\nchildren.  \\nChanges to this Consent Form  \\nWe may update this consent form from time to time. We will notify you of any material changes.  \\nBy clicking \"I Agree,\" you consent to the collection and use of your data as described in \\nthis form.  \\nExplanation of How the Consent Form Addresses Ethical Concerns'),\n",
       " Document(metadata={'source': 'assignement2.pdf', 'page': 9}, page_content='This consent form is designed to meet ethical standards for clarity, voluntariness, and \\ncomprehensiveness:  \\nClarity:  \\n• Plain Language:  The form uses clear and concise language that is easy for users to \\nunderstand.  \\n• Organized Structure:  The information is presented in a well -organized and logical \\nmanner.  \\n• Visual Cues:  Headings, bullet points, and bold text are used to highlight key information.  \\nVoluntariness:'),\n",
       " Document(metadata={'source': 'assignement2.pdf', 'page': 9}, page_content='Voluntariness:  \\n• Informed Consent:  The form provides users with sufficient information to make an \\ninformed decision about whether to consent.  \\n• No Coercion:  Users are not pressured or coerced into consenting.  \\n• Easy Withdrawal:  Users can easily withdraw their consent at any time.  \\nComprehensiveness:'),\n",
       " Document(metadata={'source': 'assignement2.pdf', 'page': 10}, page_content='• Detailed Information:  The form covers all key aspects of data collection and use, \\nincluding the types of data collected, the purposes of use, data sharing practices, and user \\nrights.  \\n• Specific Examples:  The form provides specific examples of how user data may be used.  \\n• Contact Information:  Users are provided with clear contact information in case they \\nhave questions or concerns.  \\nThis consent form aims to foster trust and transparency between the app and its users. By'),\n",
       " Document(metadata={'source': 'assignement2.pdf', 'page': 10}, page_content=\"obtaining informed and voluntary consent, we ensure that users are in control of their data and \\nthat we are using it responsibly and ethically.  \\n \\nTask 5: Ethical Dilemmas in Data Science  \\nThe Algorithmic Hiring Dilemma: Balancing Efficiency and Fairness  \\nIntroduction  \\nIn today's competitive job market, organizations are increasingly turning to predictive analytics \\nto streamline their hiring processes and identify top talent.  While these technologies offer\"),\n",
       " Document(metadata={'source': 'assignement2.pdf', 'page': 10}, page_content='significant benefits in terms of efficiency and cost savings, they also raise ethical concerns, \\nparticularly regarding potential bias and discrimination.  This case study examines a hypothetical \\nscenario where a tech company, \"InnovateTech,\" faces an ethical dilemma related to the use of \\npredictive analytics in hiring. W e will analyze the situation, identify the ethical challenges, and \\npropose a solution that balances the company\\'s goals with responsible data science practices.'),\n",
       " Document(metadata={'source': 'assignement2.pdf', 'page': 10}, page_content='The Scenario  \\nInnovateTech, a rapidly growing tech company, is seeking to optimize its hiring process to \\nhandle a high volume of applications for software engineering roles. The company decides to \\nimplement a predictive analytics system that analyzes resumes and applica nt data to identify \\ncandidates who are most likely to succeed in the role. The system uses machine learning \\nalgorithms trained on historical data of past successful and unsuccessful hires.'),\n",
       " Document(metadata={'source': 'assignement2.pdf', 'page': 10}, page_content='While the system initially appears to be effective in streamlining the hiring process, concerns \\narise when an internal analysis reveals that the system disproportionately favors candidates from \\ncertain universities and backgrounds, while underrepresenting candidates from underprivileged \\ngroups and non -traditional educational pathways. This raises concerns about potential bias and \\ndiscrimination embedded within the system.  \\n \\nEthical Challenges'),\n",
       " Document(metadata={'source': 'assignement2.pdf', 'page': 10}, page_content='Ethical Challenges  \\nThe use of predictive analytics in hiring at InnovateTech presents several ethical challenges:'),\n",
       " Document(metadata={'source': 'assignement2.pdf', 'page': 11}, page_content=\"• Bias and Discrimination:  The system's tendency to favor certain demographics could \\nperpetuate existing inequalities and limit opportunities for qualified candidates from \\nunderrepresented groups.  \\n• Lack of Transparency:  The lack of transparency in how the algorithm makes decisions \\ncan make it difficult to identify and address potential biases.  \\n• Accountability:  It is unclear who is accountable for the system's decisions and any \\npotential discriminatory outcomes.\"),\n",
       " Document(metadata={'source': 'assignement2.pdf', 'page': 11}, page_content=\"potential discriminatory outcomes.  \\n• Erosion of Trust:  If candidates perceive the system as unfair or biased, it could damage \\nthe company's reputation and erode trust in its hiring practices.  \\nSolution Proposal  \\nTo address these ethical challenges, InnovateTech should adopt a multi -faceted approach that \\nbalances the benefits of predictive analytics with responsible data science practices:  \\n1. Data and Algorithm Audit:\"),\n",
       " Document(metadata={'source': 'assignement2.pdf', 'page': 11}, page_content=\"1. Data and Algorithm Audit:  \\no Conduct a comprehensive audit of the training data and algorithm to identify and \\nmitigate potential biases.  \\no Ensure the data is representative of the diverse pool of qualified candidates and \\ndoes not perpetuate historical inequalities.     \\no Explore fairness -aware machine learning techniques to reduce bias in the \\nalgorithm's predictions.  \\n2. Transparency and Explainability:\"),\n",
       " Document(metadata={'source': 'assignement2.pdf', 'page': 11}, page_content='2. Transparency and Explainability:  \\no Increase transparency by providing clear explanations of how the system works \\nand what factors are considered in candidate selection.  \\no Develop mechanisms to explain individual predictions, allowing candidates to \\nunderstand why they were or were not selected.  \\n3. Human Oversight and Accountability:  \\no Maintain human oversight in the hiring process. Use the system as a tool to assist \\nhuman decision -making, not as a replacement for it.'),\n",
       " Document(metadata={'source': 'assignement2.pdf', 'page': 11}, page_content=\"o Establish clear lines of accountability for the system's decisions and any potential \\ndiscriminatory outcomes.  \\n4. Continuous Monitoring and Improvement:  \\no Continuously monitor the system's performance for fairness and accuracy.  \\no Regularly re -train the algorithm with updated data to ensure its effectiveness and \\nmitigate evolving biases.\"),\n",
       " Document(metadata={'source': 'assignement2.pdf', 'page': 12}, page_content='5. Ethical Guidelines and Training:  \\no Develop clear ethical guidelines for the use of predictive analytics in hiring.  \\no Provide training to hiring managers and data scientists on ethical considerations \\nand responsible use of the technology.  \\nSources:  \\nhttps://evontech.com/component/easyblog/ethical -considerations -in-predictive -analytics -\\nensuring -fairness -and-accountability -1-\\n1.html?Itemid=159#:~:text=If%20the%20data%20itself%20is,end%20up%20perpetuating%20th\\ne%20biases .'),\n",
       " Document(metadata={'source': 'assignement2.pdf', 'page': 12}, page_content=\"e%20biases . \\n \\nhttps://www.roberthalf.com/us/en/insights/management -tips/is -predictive -analytics -the-future -of-\\nrecruitment -and-\\nhiring#:~:text=Ultimately%2C%20predictive%20analytics%20enables%20more,the%20recruitm\\nent%20and%20hiring%20processes.  \\n \\nTask 6: Impact on Society and Responsibility of Data Scientists  \\nData Scientists: Guardians of Societal Impact  \\nData scientists wield immense power in today's data -driven world. Their work shapes decisions,\"),\n",
       " Document(metadata={'source': 'assignement2.pdf', 'page': 12}, page_content='influences systems, and ultimately impacts lives. This power carries an inherent responsibility to \\nconsider the broader societal implications of their work, exte nding beyond the immediate goals \\nof any project.  \\n1. Data is Not Neutral:  \\nData reflects the biases, values, and historical context of its creation. Data scientists must be \\naware of these embedded complexities to avoid perpetuating harmful biases. Ignoring the social'),\n",
       " Document(metadata={'source': 'assignement2.pdf', 'page': 12}, page_content='implications of data is like ignoring the side effects of a pow erful drug – negligence can have far -\\nreaching consequences.  \\n2. Pervasive Impact:  \\nData -driven systems are now integral to healthcare, finance, education, and criminal justice. \\nAlgorithms influence decisions that impact individuals and communities profoundly. Data \\nscientists, as architects of these systems, cannot ignore their responsibi lity for the outcomes.  \\n3. Ethical Awareness is Key:'),\n",
       " Document(metadata={'source': 'assignement2.pdf', 'page': 12}, page_content='3. Ethical Awareness is Key:  \\nThis responsibility is not about stifling innovation, but about fostering ethical awareness and \\nresponsible practice. Data scientists must be vigilant about potential biases, strive for \\ntransparency in their algorithms, and proactively assess societal impa cts.'),\n",
       " Document(metadata={'source': 'assignement2.pdf', 'page': 13}, page_content=\"4. Specific Responsibilities:  \\n• Critical Data Awareness:  Understanding the data's origins, limitations, and potential \\nbiases is crucial.  \\n• Algorithmic Accountability:  Explainability and transparency in algorithms are essential \\nfor scrutiny and understanding.  \\n• Proactive Impact Assessment:  Considering potential societal impacts, both positive and \\nnegative, before deployment.  \\n• Ongoing Monitoring and Evaluation:  Identifying unintended consequences and ensuring\"),\n",
       " Document(metadata={'source': 'assignement2.pdf', 'page': 13}, page_content=\"ethical alignment over time.  \\n5. Benefits of Responsibility:  \\nEmbracing responsibility for societal impact is not just ethical, but strategic. It builds trust, \\nenhances the profession's credibility, and ensures data science serves the betterment of society.  \\nConclusion  \\nData scientists are not merely technical experts; they are ethical practitioners with a \\nresponsibility to use their skills for good. By acknowledging and addressing the societal impacts\"),\n",
       " Document(metadata={'source': 'assignement2.pdf', 'page': 13}, page_content='of their work, they can help create a more just, equitable, and sustai nable world.')]"
      ]
     },
     "execution_count": 7,
     "metadata": {},
     "output_type": "execute_result"
    }
   ],
   "source": [
    "from langchain_text_splitters import RecursiveCharacterTextSplitter\n",
    "\n",
    "text_splitter = RecursiveCharacterTextSplitter(chunk_size=500, chunk_overlap = 50)\n",
    "final_documents = text_splitter.split_documents(documents)\n",
    "\n",
    "final_documents"
   ]
  },
  {
   "cell_type": "code",
   "execution_count": 8,
   "metadata": {},
   "outputs": [
    {
     "name": "stdout",
     "output_type": "stream",
     "text": [
      "page_content='Task 1: Data Privacy and Security Analysis  \n",
      "I. Introduction  \n",
      "Importance of Data Privacy and Security : In the digital age, vast amounts of sensitive data are \n",
      "collected and processed, making data privacy and security paramount. Organizations have an \n",
      "ethical and legal obligation to protect this information.  \n",
      "Prevalence of Data Breaches : Despite increased awareness, data breaches remain a persistent' metadata={'source': 'assignement2.pdf', 'page': 0}\n",
      "page_content='threat, highlighting the need for robust security measures and ethical data handling practices.  \n",
      "Focus of the Essay:  This essay analyzes the recent MOVEit Transfer data breach, examining its \n",
      "causes, ethical implications, and potential solutions to prevent similar incidents.  \n",
      " \n",
      "II. Background  \n",
      "Data Privacy:  Focuses on individual rights to control personal information. Key principles \n",
      "include:  \n",
      "Consent:  Individuals should be informed about and agree to data collection and use.' metadata={'source': 'assignement2.pdf', 'page': 0}\n"
     ]
    }
   ],
   "source": [
    "print(final_documents[0])\n",
    "\n",
    "print(final_documents[1])"
   ]
  },
  {
   "cell_type": "code",
   "execution_count": 10,
   "metadata": {},
   "outputs": [
    {
     "data": {
      "text/plain": [
       "'In the 2019 National and State election held in April and May 2019, YSR Congress Party swept the polls and won 151 of the total 175 assembly seats and 22 of the 25 Lok Sabha seats in Andhra Pradesh. He took oath as the Chief Minister on 30 May 2019.[52] His chief ministership has been marked by a slew of welfare schemes such as Jagananna Amma Vodi, Navaratnalu.[53] Jagananna Amma Vodi provides financial assistance for mothers or guardians from the Below Poverty Line, to educate their children.[54][55] Navaratnalu is a collection of nine welfare schemes covering farmers, women, medical and health, education and Special Category Status.[53] He scrapped the plans for a new capital at Amaravati, proposed by the former TDP government, and has proposed three different capitals for the judicial, administrative and legislative branches at Kurnool, Amaravati and Visakhapatnam respectively.[56] The proposal resulted in widespread protests by the farmers of Amaravati.[57] The Andhra Pradesh High Court in a March 2022 ruling directed the Government of Andhra Pradesh to continue developing Amaravati and adjudicated that the government \"lacked the competence to make any legislation for shifting, bifurcating or trifurcating the capital\".[58]\\n\\nAs of April 2023, it was reported by the Association for Democratic Reforms that he was the richest Chief Minister in India, with total assets of 510 crore'"
      ]
     },
     "execution_count": 10,
     "metadata": {},
     "output_type": "execute_result"
    }
   ],
   "source": [
    "speech =\"\"\n",
    "\n",
    "with open(\"speech.txt\") as f:\n",
    "    speech = f.read()\n",
    "\n",
    "speech"
   ]
  },
  {
   "cell_type": "code",
   "execution_count": 13,
   "metadata": {},
   "outputs": [
    {
     "data": {
      "text/plain": [
       "[Document(metadata={}, page_content='In the 2019 National and State election held in April and May 2019, YSR Congress Party swept the'),\n",
       " Document(metadata={}, page_content='Party swept the polls and won 151 of the total 175 assembly seats and 22 of the 25 Lok Sabha seats'),\n",
       " Document(metadata={}, page_content='25 Lok Sabha seats in Andhra Pradesh. He took oath as the Chief Minister on 30 May 2019.[52] His'),\n",
       " Document(metadata={}, page_content='May 2019.[52] His chief ministership has been marked by a slew of welfare schemes such as Jagananna'),\n",
       " Document(metadata={}, page_content='such as Jagananna Amma Vodi, Navaratnalu.[53] Jagananna Amma Vodi provides financial assistance for'),\n",
       " Document(metadata={}, page_content='assistance for mothers or guardians from the Below Poverty Line, to educate their children.[54][55]'),\n",
       " Document(metadata={}, page_content='children.[54][55] Navaratnalu is a collection of nine welfare schemes covering farmers, women,'),\n",
       " Document(metadata={}, page_content='farmers, women, medical and health, education and Special Category Status.[53] He scrapped the'),\n",
       " Document(metadata={}, page_content='He scrapped the plans for a new capital at Amaravati, proposed by the former TDP government, and'),\n",
       " Document(metadata={}, page_content='TDP government, and has proposed three different capitals for the judicial, administrative and'),\n",
       " Document(metadata={}, page_content='administrative and legislative branches at Kurnool, Amaravati and Visakhapatnam respectively.[56]'),\n",
       " Document(metadata={}, page_content='respectively.[56] The proposal resulted in widespread protests by the farmers of Amaravati.[57] The'),\n",
       " Document(metadata={}, page_content='Amaravati.[57] The Andhra Pradesh High Court in a March 2022 ruling directed the Government of'),\n",
       " Document(metadata={}, page_content='the Government of Andhra Pradesh to continue developing Amaravati and adjudicated that the'),\n",
       " Document(metadata={}, page_content='that the government \"lacked the competence to make any legislation for shifting, bifurcating or'),\n",
       " Document(metadata={}, page_content='bifurcating or trifurcating the capital\".[58]'),\n",
       " Document(metadata={}, page_content='As of April 2023, it was reported by the Association for Democratic Reforms that he was the richest'),\n",
       " Document(metadata={}, page_content='he was the richest Chief Minister in India, with total assets of 510 crore')]"
      ]
     },
     "execution_count": 13,
     "metadata": {},
     "output_type": "execute_result"
    }
   ],
   "source": [
    "#when working with langchain, alwyas make sure the data to be document type.mro\n",
    "\n",
    "text_splitter = RecursiveCharacterTextSplitter(chunk_size =100, chunk_overlap =20)\n",
    "\n",
    "text = text_splitter.create_documents([speech])\n",
    "\n",
    "text"
   ]
  },
  {
   "cell_type": "markdown",
   "metadata": {},
   "source": [
    "* chunk_size=500: This sets the target size for each chunk of text to be approximately 500 characters.\n",
    "* chunk_overlap=50: This means that consecutive chunks will overlap by 50 characters. Overlapping helps maintain context and coherence between chunks."
   ]
  },
  {
   "cell_type": "code",
   "execution_count": 15,
   "metadata": {},
   "outputs": [
    {
     "name": "stdout",
     "output_type": "stream",
     "text": [
      "page_content='In the 2019 National and State election held in April and May 2019, YSR Congress Party swept the'\n",
      "page_content='Party swept the polls and won 151 of the total 175 assembly seats and 22 of the 25 Lok Sabha seats'\n"
     ]
    }
   ],
   "source": [
    "type(text)\n",
    "print(text[0])\n",
    "\n",
    "print(text[1])"
   ]
  },
  {
   "cell_type": "markdown",
   "metadata": {},
   "source": [
    "## Key Difference from split_documents()\n",
    "\n",
    "create_documents() takes raw text strings as input, while split_documents() takes existing Document objects.\n",
    "\n",
    "Splitting: create_documents() doesn't perform any text splitting. It simply creates Document objects from the provided texts. split_documents() actually splits the text content of the input documents into smaller chunks.\n",
    "\n",
    "## When to use create_documents()\n",
    "\n",
    "When you have text data that isn't already in Document objects (e.g., from a database, API, or list of strings).\n",
    "\n",
    "When you want to create Document objects with specific metadata associated with each text.\n",
    "\n",
    "When you don't need to split the text further, and each input string represents a complete document."
   ]
  },
  {
   "cell_type": "markdown",
   "metadata": {},
   "source": [
    "## how to split by character-character Text Splitter\n",
    "\n",
    "This is the simplest method. This splits based on a giveen character sequence, which deafults to \"\\n\\n\". Chunk length is determined by the chunk_size parameter."
   ]
  },
  {
   "cell_type": "code",
   "execution_count": 21,
   "metadata": {},
   "outputs": [
    {
     "data": {
      "text/plain": [
       "[Document(metadata={'source': 'speech.txt'}, page_content='In the 2019 National and State election held in April and May 2019, YSR Congress Party swept the polls and won 151 of the total 175 assembly seats\\nand 22 of the 25 Lok Sabha seats in Andhra Pradesh. He took oath as the Chief Minister on 30 May 2019.[52] His chief ministership has been marked \\nby a slew of welfare schemes such as Jagananna Amma Vodi, Navaratnalu.[53] Jagananna Amma Vodi provides financial assistance for mothers or \\nguardians from the Below Poverty Line, to educate their children.[54][55] Navaratnalu is a collection of nine welfare schemes covering farmers, \\nwomen, medical and health, education and Special Category Status.[53] He scrapped the plans for a new capital at Amaravati, proposed by the former\\nTDP government, and has proposed three different capitals for the judicial, administrative and legislative branches at Kurnool, Amaravati and \\nVisakhapatnam respectively.[56] The proposal resulted in widespread protests by the farmers of Amaravati.[57] The Andhra Pradesh High Court in a \\nMarch 2022 ruling directed the Government of Andhra Pradesh to continue developing Amaravati and adjudicated that the government \"lacked the \\ncompetence to make any legislation for shifting, bifurcating or trifurcating the capital\".[58]\\n\\nAs of April 2023, it was reported by the Association for Democratic Reforms that he was the richest Chief Minister in India, with total assets of \\n510 crore.')]"
      ]
     },
     "execution_count": 21,
     "metadata": {},
     "output_type": "execute_result"
    }
   ],
   "source": [
    "from langchain_community.document_loaders import TextLoader\n",
    "\n",
    "loader =  TextLoader('speech.txt')\n",
    "\n",
    "documents = loader.load()\n",
    "\n",
    "documents"
   ]
  },
  {
   "cell_type": "code",
   "execution_count": 28,
   "metadata": {},
   "outputs": [
    {
     "name": "stderr",
     "output_type": "stream",
     "text": [
      "Created a chunk of size 1252, which is longer than the specified 150\n"
     ]
    },
    {
     "name": "stdout",
     "output_type": "stream",
     "text": [
      "page_content='In the 2019 National and State election held in April and May 2019, YSR Congress Party swept the'\n",
      "page_content='Party swept the polls and won 151 of the total 175 assembly seats and 22 of the 25 Lok Sabha seats'\n"
     ]
    }
   ],
   "source": [
    "from langchain_text_splitters import CharacterTextSplitter\n",
    "\n",
    "text_splitter = CharacterTextSplitter(separator= \"\\n\\n\",chunk_size =150, chunk_overlap = 50)\n",
    "text_splitter.split_documents(documents)\n",
    "\n",
    "print(text[0])\n",
    "print(text[1])"
   ]
  },
  {
   "cell_type": "code",
   "execution_count": null,
   "metadata": {},
   "outputs": [],
   "source": []
  }
 ],
 "metadata": {
  "kernelspec": {
   "display_name": "genai_venv",
   "language": "python",
   "name": "python3"
  },
  "language_info": {
   "codemirror_mode": {
    "name": "ipython",
    "version": 3
   },
   "file_extension": ".py",
   "mimetype": "text/x-python",
   "name": "python",
   "nbconvert_exporter": "python",
   "pygments_lexer": "ipython3",
   "version": "3.10.0"
  }
 },
 "nbformat": 4,
 "nbformat_minor": 2
}
