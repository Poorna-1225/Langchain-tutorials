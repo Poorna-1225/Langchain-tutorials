{
 "cells": [
  {
   "cell_type": "markdown",
   "metadata": {},
   "source": [
    "You're talking about a very useful text splitter in LangChain! The `HTMLHeaderTextSplitter` is designed specifically for splitting HTML content in a way that preserves the structure and hierarchy of the information.\n",
    "\n",
    "Here's how it works:\n",
    "\n",
    "**1. Structure-aware splitting:** Unlike basic text splitters that simply look for separators like newlines, the `HTMLHeaderTextSplitter` understands the structure of HTML documents. It uses HTML headers (`<h1>`, `<h2>`, `<h3>`, etc.) as the primary splitting points.\n",
    "\n",
    "**2. Metadata generation:**  It not only splits the text but also generates metadata for each chunk based on the headers. This metadata captures the hierarchical context of the chunk within the HTML document. For example, a chunk under an `<h3>` tag might have metadata indicating the text of the `<h3>` as well as the `<h2>` and `<h1>` it falls under.\n",
    "\n",
    "**3. Flexibility:** You can configure the splitter to:\n",
    "\n",
    "   * **Specify headers:** Choose which header levels (`<h1>`, `<h2>`, etc.) to use as splitting points.\n",
    "   * **Combine elements:**  Control whether to return each HTML element as a separate chunk or combine elements under the same header into a single chunk.\n",
    "\n",
    "**Why this is powerful**\n",
    "\n",
    "* **Preserves context:**  The metadata helps retain the hierarchical relationships between chunks, which is crucial for understanding the flow and organization of information in HTML documents.\n",
    "* **Improved relevance:** When used with LLMs, the context-rich metadata can lead to more relevant and accurate responses, as the LLM has a better understanding of where the information comes from within the HTML structure.\n",
    "* **Ideal for web scraping:** Perfect for processing web pages where the headers often indicate the topic or section of the content.\n",
    "\n",
    "**Example**\n",
    "\n",
    "```python\n",
    "from langchain_text_splitters import HTMLHeaderTextSplitter\n",
    "\n",
    "# Sample HTML content\n",
    "html_content = \"\"\"\n",
    "<h1>My Website</h1>\n",
    "<p>Some introductory text.</p>\n",
    "<h2>About Us</h2>\n",
    "<p>Information about our company.</p>\n",
    "<h3>Our Team</h3>\n",
    "<p>Details about our team members.</p>\n",
    "\"\"\"\n",
    "\n",
    "splitter = HTMLHeaderTextSplitter(headers_to_split_on=[(\"h2\", \"Header 2\")])\n",
    "docs = splitter.split_text(html_content)\n",
    "\n",
    "# 'docs' will contain Document objects with chunks and metadata like:\n",
    "# {\n",
    "#   'page_content': 'Information about our company.\\nOur Team\\nDetails about our team members.',\n",
    "#   'metadata': {'Header 2': 'About Us'}\n",
    "# }\n",
    "```\n",
    "\n",
    "**Important Note:** The `HTMLHeaderTextSplitter` requires the `lxml` package. You can install it using `pip install lxml`.\n",
    "\n",
    "If you have any more questions about how to use the `HTMLHeaderTextSplitter` with your specific HTML content or want to explore its advanced features, feel free to ask! I'm here to help you make the most of it."
   ]
  },
  {
   "cell_type": "code",
   "execution_count": 1,
   "metadata": {},
   "outputs": [],
   "source": [
    "from langchain_text_splitters import HTMLHeaderTextSplitter\n",
    "\n",
    "html_string = \"\"\"\n",
    "<!DOCTYPE html>\n",
    "<html>\n",
    "<head>\n",
    "  <title>HTML Header Text Splitter Example</title>\n",
    "</head>\n",
    "<body>\n",
    "\n",
    "  <h1>LangChain Text Splitter Tutorial</h1>\n",
    "  <p>This is a sample page to demonstrate the HTMLHeaderTextSplitter.</p>\n",
    "\n",
    "  <h2>What is LangChain?</h2>\n",
    "  <p>LangChain is a framework for developing applications powered by language models.</p>\n",
    "\n",
    "  <h2>Key Concepts</h2>\n",
    "  <p>Let's explore some important concepts in LangChain:</p>\n",
    "\n",
    "  <h3>1.  Document Loaders</h3>\n",
    "  <p>Load data from various sources (web pages, files, etc.).</p>\n",
    "\n",
    "  <h3>2. Text Splitters</h3>\n",
    "  <p>Divide text into smaller chunks for processing.</p>\n",
    "    <h4>Types of Text Splitters</h4>\n",
    "    <p>There are different types of splitters like <code>CharacterTextSplitter</code> and <code>HTMLHeaderTextSplitter</code>.</p>\n",
    "\n",
    "  <h3>3. Language Models</h3>\n",
    "  <p>Use LLMs like GPT-3 to understand and generate text.</p>\n",
    "\n",
    "  <h2>Getting Started</h2>\n",
    "  <p>Follow these steps to start using LangChain:</p>\n",
    "  <ol>\n",
    "    <li>Install the necessary packages.</li>\n",
    "    <li>Import the required modules.</li>\n",
    "    <li>Load your data.</li>\n",
    "    <li>Split the text into chunks.</li>\n",
    "    <li>Use a language model to process the chunks.</li>\n",
    "  </ol>\n",
    "\n",
    "</body>\n",
    "</html> \n",
    "\"\"\""
   ]
  },
  {
   "cell_type": "code",
   "execution_count": 5,
   "metadata": {},
   "outputs": [
    {
     "data": {
      "text/plain": [
       "[Document(metadata={'Headr 1': 'LangChain Text Splitter Tutorial'}, page_content='This is a sample page to demonstrate the HTMLHeaderTextSplitter.'),\n",
       " Document(metadata={'Headr 1': 'LangChain Text Splitter Tutorial', 'Headr 2': 'What is LangChain?'}, page_content='LangChain is a framework for developing applications powered by language models.'),\n",
       " Document(metadata={'Headr 1': 'LangChain Text Splitter Tutorial', 'Headr 2': 'Key Concepts'}, page_content=\"Let's explore some important concepts in LangChain:\"),\n",
       " Document(metadata={'Headr 1': 'LangChain Text Splitter Tutorial', 'Headr 2': 'Key Concepts', 'Headr 3': '1. Document Loaders'}, page_content='Load data from various sources (web pages, files, etc.).'),\n",
       " Document(metadata={'Headr 1': 'LangChain Text Splitter Tutorial', 'Headr 2': 'Key Concepts', 'Headr 3': '2. Text Splitters'}, page_content='Divide text into smaller chunks for processing.  \\nThere are different types of splitters like CharacterTextSplitter and HTMLHeaderTextSplitter.'),\n",
       " Document(metadata={'Headr 1': 'LangChain Text Splitter Tutorial', 'Headr 2': 'Key Concepts', 'Headr 3': '3. Language Models'}, page_content='Use LLMs like GPT-3 to understand and generate text.'),\n",
       " Document(metadata={'Headr 1': 'LangChain Text Splitter Tutorial', 'Headr 2': 'Getting Started'}, page_content='Follow these steps to start using LangChain:  \\nInstall the necessary packages. Import the required modules. Load your data. Split the text into chunks. Use a language model to process the chunks.')]"
      ]
     },
     "execution_count": 5,
     "metadata": {},
     "output_type": "execute_result"
    }
   ],
   "source": [
    "headers_to_split_on = [\n",
    "    (\"h1\", \"Headr 1\"),\n",
    "    (\"h2\", \"Headr 2\"),\n",
    "    (\"h3\", \"Headr 3\"),S\n",
    "]\n",
    "\n",
    "html_splitter  = HTMLHeaderTextSplitter(headers_to_split_on=headers_to_split_on)\n",
    "html_header_splitter = html_splitter.split_text(html_string)\n",
    "\n",
    "html_header_splitter"
   ]
  },
  {
   "cell_type": "code",
   "execution_count": 7,
   "metadata": {},
   "outputs": [
    {
     "name": "stdout",
     "output_type": "stream",
     "text": [
      "page content: This is a sample page to demonstrate the HTMLHeaderTextSplitter.\n",
      "page content: LangChain is a framework for developing applications powered by language models.\n",
      "page content: Let's explore some important concepts in LangChain:\n",
      "page content: Load data from various sources (web pages, files, etc.).\n",
      "page content: Divide text into smaller chunks for processing.  \n",
      "There are different types of splitters like CharacterTextSplitter and HTMLHeaderTextSplitter.\n",
      "page content: Use LLMs like GPT-3 to understand and generate text.\n",
      "page content: Follow these steps to start using LangChain:  \n",
      "Install the necessary packages. Import the required modules. Load your data. Split the text into chunks. Use a language model to process the chunks.\n"
     ]
    }
   ],
   "source": [
    "for split in html_header_splitter:\n",
    "    print(f\"page content: {split.page_content}\")"
   ]
  },
  {
   "cell_type": "code",
   "execution_count": 10,
   "metadata": {},
   "outputs": [
    {
     "data": {
      "text/plain": [
       "[Document(metadata={}, page_content=\"Stanford Encyclopedia of Philosophy  \\nMenu  \\nBrowse About Support SEP  \\nTable of Contents What's New Random Entry Chronological Archives  \\nEditorial Information About the SEP Editorial Board How to Cite the SEP Special Characters Advanced Tools Contact  \\nSupport the SEP PDFs for SEP Friends Make a Donation SEPIA for Libraries  \\nDocument Not Found\"),\n",
       " Document(metadata={'Headr 1': 'Document Not Found'}, page_content=\"We are sorry but the document you are looking for doesn't exist on our server.  \\nPlease update any bookmark that led you to this page, or inform the webmaster of sites with bad links leading to this page.  \\nTo find what you were looking for, you can use the links below to search or browse the SEP.  \\nSearch Search Tips  \\nBrowse\"),\n",
       " Document(metadata={'Headr 1': 'Document Not Found', 'Headr 2': 'Browse'}, page_content=\"Table of Contents  \\nWhat's New Archives Random Entry\"),\n",
       " Document(metadata={}, page_content='Browse'),\n",
       " Document(metadata={'Headr 4': 'Browse'}, page_content=\"Table of Contents What's New Random Entry Chronological Archives\"),\n",
       " Document(metadata={}, page_content='About'),\n",
       " Document(metadata={'Headr 4': 'About'}, page_content='Editorial Information About the SEP Editorial Board How to Cite the SEP Special Characters Advanced Tools Contact'),\n",
       " Document(metadata={}, page_content='Support SEP'),\n",
       " Document(metadata={'Headr 4': 'Support SEP'}, page_content='Support the SEP PDFs for SEP Friends Make a Donation SEPIA for Libraries'),\n",
       " Document(metadata={}, page_content='Mirror Sites'),\n",
       " Document(metadata={'Headr 4': 'Mirror Sites'}, page_content='View this site from another server:'),\n",
       " Document(metadata={}, page_content='USA (Main Site) CSLI, Stanford University  \\nAustralia SETIS, University of Sydney Netherlands ILLC, University of Amsterdam  \\nThe Stanford Encyclopedia of Philosophy is copyright © 2024 by The Metaphysics Research Lab, Center for the Study of Language and Information (CSLI), Stanford University  \\nLibrary of Congress Catalog Data: ISSN 1095-5054')]"
      ]
     },
     "execution_count": 10,
     "metadata": {},
     "output_type": "execute_result"
    }
   ],
   "source": [
    "url = \"https://plato.stanford.edu/entires/goedel\"\n",
    "\n",
    "headers_to_split_on = [\n",
    "    (\"h1\", \"Headr 1\"),\n",
    "    (\"h2\", \"Headr 2\"),\n",
    "    (\"h3\", \"Headr 3\"),\n",
    "    (\"h4\", \"Headr 4\"),\n",
    "    (\"h5\", \"Headr 5\"),\n",
    "    (\"h6\", \"Headr 6\")\n",
    "]\n",
    "\n",
    "html_splitter =  HTMLHeaderTextSplitter(headers_to_split_on=headers_to_split_on)\n",
    "html_header_splitter = html_splitter.split_text_from_url(url)\n",
    "\n",
    "html_header_splitter"
   ]
  },
  {
   "cell_type": "code",
   "execution_count": 11,
   "metadata": {},
   "outputs": [
    {
     "name": "stdout",
     "output_type": "stream",
     "text": [
      "page content: Stanford Encyclopedia of Philosophy  \n",
      "Menu  \n",
      "Browse About Support SEP  \n",
      "Table of Contents What's New Random Entry Chronological Archives  \n",
      "Editorial Information About the SEP Editorial Board How to Cite the SEP Special Characters Advanced Tools Contact  \n",
      "Support the SEP PDFs for SEP Friends Make a Donation SEPIA for Libraries  \n",
      "Document Not Found\n",
      "page content: We are sorry but the document you are looking for doesn't exist on our server.  \n",
      "Please update any bookmark that led you to this page, or inform the webmaster of sites with bad links leading to this page.  \n",
      "To find what you were looking for, you can use the links below to search or browse the SEP.  \n",
      "Search Search Tips  \n",
      "Browse\n",
      "page content: Table of Contents  \n",
      "What's New Archives Random Entry\n",
      "page content: Browse\n",
      "page content: Table of Contents What's New Random Entry Chronological Archives\n",
      "page content: About\n",
      "page content: Editorial Information About the SEP Editorial Board How to Cite the SEP Special Characters Advanced Tools Contact\n",
      "page content: Support SEP\n",
      "page content: Support the SEP PDFs for SEP Friends Make a Donation SEPIA for Libraries\n",
      "page content: Mirror Sites\n",
      "page content: View this site from another server:\n",
      "page content: USA (Main Site) CSLI, Stanford University  \n",
      "Australia SETIS, University of Sydney Netherlands ILLC, University of Amsterdam  \n",
      "The Stanford Encyclopedia of Philosophy is copyright © 2024 by The Metaphysics Research Lab, Center for the Study of Language and Information (CSLI), Stanford University  \n",
      "Library of Congress Catalog Data: ISSN 1095-5054\n"
     ]
    }
   ],
   "source": [
    "for split in html_header_splitter:\n",
    "    print(f\"page content: {split.page_content}\")"
   ]
  },
  {
   "cell_type": "markdown",
   "metadata": {},
   "source": []
  }
 ],
 "metadata": {
  "kernelspec": {
   "display_name": "genai_venv",
   "language": "python",
   "name": "python3"
  },
  "language_info": {
   "codemirror_mode": {
    "name": "ipython",
    "version": 3
   },
   "file_extension": ".py",
   "mimetype": "text/x-python",
   "name": "python",
   "nbconvert_exporter": "python",
   "pygments_lexer": "ipython3",
   "version": "3.10.0"
  }
 },
 "nbformat": 4,
 "nbformat_minor": 2
}
